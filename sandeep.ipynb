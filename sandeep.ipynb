{
  "nbformat": 4,
  "nbformat_minor": 0,
  "metadata": {
    "colab": {
      "name": "Untitled0.ipynb",
      "provenance": [],
      "authorship_tag": "ABX9TyN9g5Aq9WZRAL58Vz4yJhOh",
      "include_colab_link": true
    },
    "kernelspec": {
      "name": "python3",
      "display_name": "Python 3"
    }
  },
  "cells": [
    {
      "cell_type": "markdown",
      "metadata": {
        "id": "view-in-github",
        "colab_type": "text"
      },
      "source": [
        "<a href=\"https://colab.research.google.com/github/Sandeeppasala/EVA4_Session2/blob/master/sandeep.ipynb\" target=\"_parent\"><img src=\"https://colab.research.google.com/assets/colab-badge.svg\" alt=\"Open In Colab\"/></a>"
      ]
    },
    {
      "cell_type": "code",
      "metadata": {
        "id": "DhvNAXC5SEE_",
        "colab_type": "code",
        "outputId": "0bd8c160-8939-4266-862a-ea1023aaf8e1",
        "colab": {
          "base_uri": "https://localhost:8080/",
          "height": 34
        }
      },
      "source": [
        "2+2"
      ],
      "execution_count": 91,
      "outputs": [
        {
          "output_type": "execute_result",
          "data": {
            "text/plain": [
              "4"
            ]
          },
          "metadata": {
            "tags": []
          },
          "execution_count": 91
        }
      ]
    },
    {
      "cell_type": "code",
      "metadata": {
        "id": "5lFLIEyvP5CI",
        "colab_type": "code",
        "colab": {
          "base_uri": "https://localhost:8080/",
          "height": 85
        },
        "outputId": "ee9cc9ac-8de1-4bb7-a159-8dba226beacc"
      },
      "source": [
        "thisset = {\"apple\",\"banana\",\"cherry\"}\n",
        "for x in thisset:\n",
        "  print(x)\n",
        "\n",
        "print(\"banana\" in thisset)"
      ],
      "execution_count": 92,
      "outputs": [
        {
          "output_type": "stream",
          "text": [
            "banana\n",
            "cherry\n",
            "apple\n",
            "True\n"
          ],
          "name": "stdout"
        }
      ]
    },
    {
      "cell_type": "code",
      "metadata": {
        "id": "CR5gWY2bZg25",
        "colab_type": "code",
        "colab": {
          "base_uri": "https://localhost:8080/",
          "height": 119
        },
        "outputId": "c664b386-4ad2-497a-e8a9-50ea43fcc899"
      },
      "source": [
        "thisdict = {\n",
        "    \"Engineer\":\"Sandeep\",\n",
        "    \"Doctor\":\"Priyanka\",\n",
        "    \"Student\":\"Ishita\"\n",
        "}\n",
        "\n",
        "print(thisdict)\n",
        "print(thisdict[\"Engineer\"])\n",
        "print(thisdict[\"Doctor\"])\n",
        "print(thisdict[\"Student\"])\n",
        "\n",
        "thisdict[\"Student\"] = \"Varanasi\"\n",
        "print(thisdict[\"Student\"])\n",
        "print(thisdict)"
      ],
      "execution_count": 93,
      "outputs": [
        {
          "output_type": "stream",
          "text": [
            "{'Engineer': 'Sandeep', 'Doctor': 'Priyanka', 'Student': 'Ishita'}\n",
            "Sandeep\n",
            "Priyanka\n",
            "Ishita\n",
            "Varanasi\n",
            "{'Engineer': 'Sandeep', 'Doctor': 'Priyanka', 'Student': 'Varanasi'}\n"
          ],
          "name": "stdout"
        }
      ]
    },
    {
      "cell_type": "code",
      "metadata": {
        "id": "Cbc9QKudaImi",
        "colab_type": "code",
        "colab": {
          "base_uri": "https://localhost:8080/",
          "height": 68
        },
        "outputId": "adedae43-89bf-45aa-d66e-4b822ca75bee"
      },
      "source": [
        "for x in thisdict:\n",
        "  print(x)"
      ],
      "execution_count": 94,
      "outputs": [
        {
          "output_type": "stream",
          "text": [
            "Engineer\n",
            "Doctor\n",
            "Student\n"
          ],
          "name": "stdout"
        }
      ]
    },
    {
      "cell_type": "code",
      "metadata": {
        "id": "P3L4XBf6ejCI",
        "colab_type": "code",
        "colab": {
          "base_uri": "https://localhost:8080/",
          "height": 68
        },
        "outputId": "0eeb9340-34f5-4efb-ad3e-a0875c2f0d04"
      },
      "source": [
        "for y in thisdict:\n",
        "  print(thisdict[y])"
      ],
      "execution_count": 95,
      "outputs": [
        {
          "output_type": "stream",
          "text": [
            "Sandeep\n",
            "Priyanka\n",
            "Varanasi\n"
          ],
          "name": "stdout"
        }
      ]
    },
    {
      "cell_type": "code",
      "metadata": {
        "id": "H9w2H1qme5th",
        "colab_type": "code",
        "colab": {
          "base_uri": "https://localhost:8080/",
          "height": 68
        },
        "outputId": "557a7249-d365-4f51-b06d-de302dc24e6e"
      },
      "source": [
        "for x in thisdict.values():\n",
        "  print(x)"
      ],
      "execution_count": 96,
      "outputs": [
        {
          "output_type": "stream",
          "text": [
            "Sandeep\n",
            "Priyanka\n",
            "Varanasi\n"
          ],
          "name": "stdout"
        }
      ]
    },
    {
      "cell_type": "code",
      "metadata": {
        "id": "v1idyW2wfJDO",
        "colab_type": "code",
        "colab": {
          "base_uri": "https://localhost:8080/",
          "height": 102
        },
        "outputId": "43bf8ec1-0480-421d-c9f2-4682a9e4d034"
      },
      "source": [
        "for x,y in thisdict.items():\n",
        "  print(x,y)\n",
        "print(len(thisdict))\n",
        "\n",
        "thisdict[\"Place\"] = \"Banglore\"\n",
        "print(thisdict)\n",
        "\n",
        "#thisdict.pop(\"Student\")\n",
        "#print(thisdict)"
      ],
      "execution_count": 97,
      "outputs": [
        {
          "output_type": "stream",
          "text": [
            "Engineer Sandeep\n",
            "Doctor Priyanka\n",
            "Student Varanasi\n",
            "3\n",
            "{'Engineer': 'Sandeep', 'Doctor': 'Priyanka', 'Student': 'Varanasi', 'Place': 'Banglore'}\n"
          ],
          "name": "stdout"
        }
      ]
    },
    {
      "cell_type": "code",
      "metadata": {
        "id": "rQfDdLW6moSX",
        "colab_type": "code",
        "colab": {
          "base_uri": "https://localhost:8080/",
          "height": 34
        },
        "outputId": "55d7df22-2eac-48dd-d8e6-31aa10527a52"
      },
      "source": [
        "thisdict.popitem()\n",
        "print(thisdict)"
      ],
      "execution_count": 98,
      "outputs": [
        {
          "output_type": "stream",
          "text": [
            "{'Engineer': 'Sandeep', 'Doctor': 'Priyanka', 'Student': 'Varanasi'}\n"
          ],
          "name": "stdout"
        }
      ]
    },
    {
      "cell_type": "code",
      "metadata": {
        "id": "Wp5asDWlwath",
        "colab_type": "code",
        "colab": {
          "base_uri": "https://localhost:8080/",
          "height": 85
        },
        "outputId": "1efddf1b-7a01-4f5e-f5c4-2e8136ca939e"
      },
      "source": [
        "class Person:\n",
        "  def __init__(self,name,age):\n",
        "    self.name = name\n",
        "    self.age = age\n",
        "\n",
        "  def myFunc(self):\n",
        "    print(self.name)\n",
        "    print(self.age)\n",
        "\n",
        "p1 = Person(\"John\", 33)\n",
        "\n",
        "p1.myFunc()\n",
        "\n",
        "p1.age = 34\n",
        "p1.name = \"Sandeep Pasala\"   \n",
        "p1.myFunc()   \n",
        "\n",
        "del p1.age\n",
        "del p1.name\n",
        "del p1"
      ],
      "execution_count": 100,
      "outputs": [
        {
          "output_type": "stream",
          "text": [
            "John\n",
            "33\n",
            "Sandeep Pasala\n",
            "34\n"
          ],
          "name": "stdout"
        }
      ]
    },
    {
      "cell_type": "code",
      "metadata": {
        "id": "EPpJgIfZBwbM",
        "colab_type": "code",
        "colab": {
          "base_uri": "https://localhost:8080/",
          "height": 34
        },
        "outputId": "a7087d6d-244e-4138-99cc-b91d275b5ddc"
      },
      "source": [
        "#Create a class named Person, with firstname and lastname properties, and a printname method:\n",
        "\n",
        "class Person:\n",
        "  def __init__(self,firstname,lastname):\n",
        "    self.firstname = firstname\n",
        "    self.lastname = lastname\n",
        "\n",
        "  def printname(self):\n",
        "    print(self.firstname,self.lastname)\n",
        "\n",
        "p1 = Person(\"Sandeep\", \"Pasala\")\n",
        "p1.printname();"
      ],
      "execution_count": 102,
      "outputs": [
        {
          "output_type": "stream",
          "text": [
            "Sandeep Pasala\n"
          ],
          "name": "stdout"
        }
      ]
    },
    {
      "cell_type": "code",
      "metadata": {
        "id": "9knNcp0RCzeb",
        "colab_type": "code",
        "colab": {
          "base_uri": "https://localhost:8080/",
          "height": 34
        },
        "outputId": "a341f4cc-61d1-4bd9-ed5d-eb5cfcec4b87"
      },
      "source": [
        "#Create a class named Student, which will inherit the properties and methods from the Person class:\n",
        "class Student (Person):\n",
        "  def __init(fname, lname):\n",
        "    Person.__init__(fname,lname)\n",
        "\n",
        "x1 = Student(\"Naga Priyanka\",\"Edara\")\n",
        "x1.printname()"
      ],
      "execution_count": 106,
      "outputs": [
        {
          "output_type": "stream",
          "text": [
            "Naga Priyanka Edara\n"
          ],
          "name": "stdout"
        }
      ]
    },
    {
      "cell_type": "code",
      "metadata": {
        "id": "iOHjMNumTxqY",
        "colab_type": "code",
        "colab": {
          "base_uri": "https://localhost:8080/",
          "height": 357
        },
        "outputId": "cd22c43d-9544-4b07-d236-00c26a82657b"
      },
      "source": [
        "class MyNumbers:\n",
        "  def __iter__(self):\n",
        "    self.a = 1\n",
        "    return self\n",
        "\n",
        "  def __next__(self):\n",
        "    if self.a <= 20:\n",
        "      x = self.a\n",
        "      self.a += 1\n",
        "      return x\n",
        "    else:\n",
        "      raise StopIteration\n",
        "\n",
        "myclass = MyNumbers()\n",
        "myiter = iter(myclass)\n",
        "\n",
        "for x in myiter:\n",
        "  print(x)\n"
      ],
      "execution_count": 107,
      "outputs": [
        {
          "output_type": "stream",
          "text": [
            "1\n",
            "2\n",
            "3\n",
            "4\n",
            "5\n",
            "6\n",
            "7\n",
            "8\n",
            "9\n",
            "10\n",
            "11\n",
            "12\n",
            "13\n",
            "14\n",
            "15\n",
            "16\n",
            "17\n",
            "18\n",
            "19\n",
            "20\n"
          ],
          "name": "stdout"
        }
      ]
    }
  ]
}